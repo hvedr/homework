{
 "cells": [
  {
   "cell_type": "markdown",
   "metadata": {},
   "source": [
    "Berceley Deep RL course. Fall 2017\n",
    "http://rll.berkeley.edu/deeprlcourse/\n",
    "Homework 1\n",
    "\n",
    "## Section 4.  DAgger\n",
    "1.  Implement DAgger.  See the code provided in\n",
    "run\n",
    "expert.py\n",
    "to see how to query the expert policy\n",
    "and perform roll-outs in the environment.\n",
    "2.  Run DAgger and report results on one task in which DAgger can learn a better policy than behavioral\n",
    "cloning.  Report your results in the form of a learning curve, plotting the number of DAgger iterations\n",
    "vs.  the policy’s mean return, with error bars to show the standard deviation.  Include the performance\n",
    "of the expert policy and the behavioral cloning agent on the same plot.  In the caption, state which\n",
    "task you used, and any details regarding network architecture, amount of data, etc.  (as in the previous\n",
    "section)."
   ]
  },
  {
   "cell_type": "code",
   "execution_count": 1,
   "metadata": {},
   "outputs": [],
   "source": [
    "import gym\n",
    "\n",
    "import pickle\n",
    "import time\n",
    "import math\n",
    "import numpy as np\n",
    "\n",
    "import torch\n",
    "import torch.nn as nn\n",
    "import torch.optim as optim\n",
    "from torch.autograd import Variable\n",
    "import torch.nn.functional as F\n",
    "\n",
    "import matplotlib.pyplot as plt\n",
    "%matplotlib inline\n",
    "\n"
   ]
  },
  {
   "cell_type": "markdown",
   "metadata": {},
   "source": [
    "### Feed forward nn"
   ]
  },
  {
   "cell_type": "code",
   "execution_count": 2,
   "metadata": {
    "collapsed": true
   },
   "outputs": [],
   "source": [
    "class FFN(nn.Module):\n",
    "    def __init__(self, input_size, hidden_size1, hidden_size2, hidden_size3, output_size, dropout_rate = 0.3):\n",
    "        super(FFN, self).__init__()\n",
    "        self.dropout_rate = dropout_rate\n",
    "        self.fc1 = nn.Linear(input_size, hidden_size1)\n",
    "        self.drop1  = nn.Dropout(p = self.dropout_rate)\n",
    "        self.fc2 = nn.Linear(hidden_size1, hidden_size2)\n",
    "        self.drop2  = nn.Dropout(p = self.dropout_rate)\n",
    "        self.fc3 = nn.Linear(hidden_size2, hidden_size2)\n",
    "        self.drop3  = nn.Dropout(p = self.dropout_rate)\n",
    "        self.fc4 = nn.Linear(hidden_size3, output_size)\n",
    "\n",
    "    def forward(self, x):\n",
    "        x = F.sigmoid(self.fc1(x))\n",
    "        x = self.drop1(x)\n",
    "        x = F.relu(self.fc2(x))\n",
    "        x = self.drop2(x)\n",
    "        x = F.relu(self.fc3(x))\n",
    "        x = self.drop3(x)\n",
    "        x = self.fc4(x)\n",
    "        return x.view(x.size(0), -1)\n",
    "    \n",
    "    def set_dropout_rate(self, p):\n",
    "        self.dropout_rate = p\n",
    "        \n"
   ]
  },
  {
   "cell_type": "code",
   "execution_count": 3,
   "metadata": {
    "collapsed": true
   },
   "outputs": [],
   "source": [
    "criterion = torch.nn.L1Loss()\n",
    "\n",
    "# Training function\n",
    "def train_ffn(states_tensor, actions_tensor,learning_rate):\n",
    "    tmp_loss = 0\n",
    "    \n",
    "    ffn.zero_grad()\n",
    "\n",
    "    output = ffn(states_tensor)               # Predict action\n",
    "    loss = criterion(output, actions_tensor)  # Calculate error\n",
    "    tmp_loss += loss.data[0]\n",
    "    loss.backward()                              # Error backpropagation\n",
    "\n",
    "    for p in ffn.parameters():                   # Update net's parameters\n",
    "        p.data.add_(-learning_rate, p.grad.data)\n",
    "    \n",
    "    return output, tmp_loss "
   ]
  },
  {
   "cell_type": "code",
   "execution_count": 4,
   "metadata": {
    "collapsed": true
   },
   "outputs": [],
   "source": [
    "def get_expert_data(args,policy_fn):\n",
    "    with tf.Session():\n",
    "        tf_util.initialize()\n",
    "\n",
    "        env = gym.make(args.envname)\n",
    "        max_steps = args.max_timesteps or env.spec.timestep_limit\n",
    "\n",
    "        returns = []\n",
    "        observations = []\n",
    "        actions = []\n",
    "        for i in range(args.num_rollouts):\n",
    "#             print('iter', i)\n",
    "            obs = env.reset()\n",
    "            done = False\n",
    "            totalr = 0.\n",
    "            steps = 0\n",
    "            while not done:\n",
    "                action = policy_fn(obs[None,:])\n",
    "                observations.append(obs)\n",
    "                actions.append(action)\n",
    "                obs, r, done, _ = env.step(action)\n",
    "                totalr += r\n",
    "                steps += 1\n",
    "                if args.render:\n",
    "                    env.render()\n",
    "                #if steps % 100 == 0: print(\"%i/%i\"%(steps, max_steps))\n",
    "                if steps >= max_steps:\n",
    "                    break\n",
    "            returns.append(totalr)\n",
    "\n",
    "#         print('returns', returns)\n",
    "#         print('mean return', np.mean(returns))\n",
    "#         print('std of return', np.std(returns))\n",
    "\n",
    "        expert_data = {'observations': np.array(observations),\n",
    "                       'actions': np.array(actions)}\n",
    "    \n",
    "    return expert_data, returns\n",
    "\n",
    "def get_expert_actions(policy_fn,observations):\n",
    "    return policy_fn(np.array(observations))\n",
    "\n",
    "\n",
    "#Evaluate learned policy\n",
    "def run_agent(ffn, args):\n",
    "    dropout_rate = ffn.dropout_rate\n",
    "    ffn.dropout_rate = 0\n",
    "    env = gym.make(args.envname)\n",
    "    max_steps = args.max_timesteps or env.spec.timestep_limit\n",
    "\n",
    "    returns = []\n",
    "    observations = []\n",
    "    actions = []\n",
    "    for i in range(args.num_rollouts):\n",
    "        #print('iter', i)\n",
    "        obs = env.reset()\n",
    "        done = False\n",
    "        totalr = 0.\n",
    "        steps = 0\n",
    "        while not done:\n",
    "            action = ffn(Variable(torch.Tensor(obs))).data.numpy()  \n",
    "            observations.append(obs)\n",
    "            actions.append(action)\n",
    "            obs, r, done, _ = env.step(action)\n",
    "            totalr += r\n",
    "            steps += 1\n",
    "\n",
    "            if args.render:\n",
    "                env.render()\n",
    "\n",
    "            if steps >= max_steps:\n",
    "                break\n",
    "            \n",
    "        #print(totalr)\n",
    "        returns.append(totalr)\n",
    "\n",
    "    data = {'observations': np.array(observations),\n",
    "            'actions': np.array(actions)}\n",
    "    ffn.dropout_rate = dropout_rate\n",
    "    return data,returns\n"
   ]
  },
  {
   "cell_type": "code",
   "execution_count": null,
   "metadata": {},
   "outputs": [],
   "source": []
  },
  {
   "cell_type": "code",
   "execution_count": 8,
   "metadata": {
    "collapsed": true
   },
   "outputs": [],
   "source": [
    "import pickle\n",
    "import tensorflow as tf\n",
    "import numpy as np\n",
    "import tf_util\n",
    "import gym\n",
    "import load_policy\n",
    "import pandas as pd\n",
    "\n",
    "tf.logging.set_verbosity(tf.logging.ERROR)\n",
    "\n",
    "def train_DAgger(ffn, args):\n",
    "    \n",
    "    minibatch_size = args.get('minibatch_size',16)\n",
    "    train_size = args.get('train_size',50000)\n",
    "\n",
    "#     print('loading and building expert policy')\n",
    "    target_policy_fn = load_policy.load_policy(args.expert_policy_file)\n",
    "#     print('loaded and built')\n",
    "    \n",
    "    with tf.Session():\n",
    "        tf_util.initialize()\n",
    "\n",
    "        # Get initial data    \n",
    "        get_expert_data_args = args.copy()\n",
    "        get_expert_data_args.num_rollouts = 10\n",
    "        expert_data, expert_returns = get_expert_data(get_expert_data_args, target_policy_fn) \n",
    "        train_data = expert_data\n",
    "        train_data['actions'] = train_data['actions'][:,0,:]\n",
    "#         print('init',train_data['actions'].shape)\n",
    "        env = gym.make(args.envname)\n",
    "        max_steps = args.max_timesteps or env.spec.timestep_limit\n",
    "\n",
    "        returns = []\n",
    "        errors = []\n",
    "#         observations = []\n",
    "#         actions = []\n",
    "        agent_args = args.copy()\n",
    "        agent_args.num_rollouts = 3\n",
    "        \n",
    "        for i in range(args.num_rollouts):\n",
    "            \n",
    "            # Train on expert_data\n",
    "            error = 0\n",
    "            for _ in range(int(train_size / minibatch_size) + 1):\n",
    "                idx = np.random.choice(len(train_data['observations']),minibatch_size)\n",
    "                _, err = train_ffn(Variable(torch.Tensor(train_data['observations'][idx])), \n",
    "                                         Variable(torch.Tensor(np.array(train_data['actions'][idx]))),\n",
    "                                         learning_rate\n",
    "                                        )\n",
    "                error += err\n",
    "            error /= train_size\n",
    "            errors.append(error)\n",
    "            \n",
    "            # Get agent tragectory\n",
    "            agent_data, rollout_returns = run_agent(ffn, agent_args)\n",
    "            returns = returns + rollout_returns\n",
    "            \n",
    "            #Get expert actions for agent trajectory observations and add it to train data\n",
    "            expert_actions = get_expert_actions(target_policy_fn,agent_data['observations'])\n",
    "            train_data['observations'] = np.concatenate((train_data['observations'],agent_data['observations']))\n",
    "            train_data['actions'] = np.concatenate((train_data['actions'], expert_actions))\n",
    "            print(args.envname, i, np.mean(rollout_returns),error)\n",
    "    return returns,errors,expert_returns            \n",
    "            \n",
    " "
   ]
  },
  {
   "cell_type": "code",
   "execution_count": 32,
   "metadata": {},
   "outputs": [
    {
     "data": {
      "text/plain": [
       "['HalfCheetah-v1']"
      ]
     },
     "execution_count": 32,
     "metadata": {},
     "output_type": "execute_result"
    }
   ],
   "source": []
  },
  {
   "cell_type": "markdown",
   "metadata": {},
   "source": [
    "### Train loop"
   ]
  },
  {
   "cell_type": "code",
   "execution_count": 33,
   "metadata": {},
   "outputs": [
    {
     "name": "stderr",
     "output_type": "stream",
     "text": [
      "[2017-11-06 00:28:08,997] Making new env: HalfCheetah-v1\n"
     ]
    },
    {
     "name": "stdout",
     "output_type": "stream",
     "text": [
      "Starting HalfCheetah-v1 environment. State space dim 17, action space dim 6.\n"
     ]
    },
    {
     "name": "stderr",
     "output_type": "stream",
     "text": [
      "[2017-11-06 00:28:09,659] Making new env: HalfCheetah-v1\n"
     ]
    },
    {
     "name": "stdout",
     "output_type": "stream",
     "text": [
      "obs (1, 17) (1, 17)\n"
     ]
    },
    {
     "name": "stderr",
     "output_type": "stream",
     "text": [
      "[2017-11-06 00:28:18,554] Making new env: HalfCheetah-v1\n",
      "[2017-11-06 00:28:28,989] Making new env: HalfCheetah-v1\n"
     ]
    },
    {
     "name": "stdout",
     "output_type": "stream",
     "text": [
      "HalfCheetah-v1 0 4144.97575774 0.0017327058980427682\n"
     ]
    },
    {
     "name": "stderr",
     "output_type": "stream",
     "text": [
      "[2017-11-06 00:28:42,377] Making new env: HalfCheetah-v1\n"
     ]
    },
    {
     "name": "stdout",
     "output_type": "stream",
     "text": [
      "HalfCheetah-v1 1 4143.48072728 0.0017091127828881144\n"
     ]
    },
    {
     "name": "stderr",
     "output_type": "stream",
     "text": [
      "[2017-11-06 00:28:55,530] Making new env: HalfCheetah-v1\n"
     ]
    },
    {
     "name": "stdout",
     "output_type": "stream",
     "text": [
      "HalfCheetah-v1 2 4032.53060973 0.0017256959444470704\n"
     ]
    },
    {
     "name": "stderr",
     "output_type": "stream",
     "text": [
      "[2017-11-06 00:29:09,919] Making new env: HalfCheetah-v1\n"
     ]
    },
    {
     "name": "stdout",
     "output_type": "stream",
     "text": [
      "HalfCheetah-v1 3 4041.16933895 0.001750327979903668\n"
     ]
    },
    {
     "name": "stderr",
     "output_type": "stream",
     "text": [
      "[2017-11-06 00:29:21,402] Making new env: HalfCheetah-v1\n"
     ]
    },
    {
     "name": "stdout",
     "output_type": "stream",
     "text": [
      "HalfCheetah-v1 4 4166.17499668 0.0017594815267995\n"
     ]
    },
    {
     "name": "stderr",
     "output_type": "stream",
     "text": [
      "[2017-11-06 00:29:34,436] Making new env: HalfCheetah-v1\n"
     ]
    },
    {
     "name": "stdout",
     "output_type": "stream",
     "text": [
      "HalfCheetah-v1 5 4180.17039432 0.0017530183991417289\n"
     ]
    },
    {
     "name": "stderr",
     "output_type": "stream",
     "text": [
      "[2017-11-06 00:29:46,876] Making new env: HalfCheetah-v1\n"
     ]
    },
    {
     "name": "stdout",
     "output_type": "stream",
     "text": [
      "HalfCheetah-v1 6 4186.4904567 0.0017444963607005776\n"
     ]
    },
    {
     "name": "stderr",
     "output_type": "stream",
     "text": [
      "[2017-11-06 00:29:57,718] Making new env: HalfCheetah-v1\n"
     ]
    },
    {
     "name": "stdout",
     "output_type": "stream",
     "text": [
      "HalfCheetah-v1 7 4149.65071829 0.0017209504523314535\n"
     ]
    },
    {
     "name": "stderr",
     "output_type": "stream",
     "text": [
      "[2017-11-06 00:30:08,290] Making new env: HalfCheetah-v1\n"
     ]
    },
    {
     "name": "stdout",
     "output_type": "stream",
     "text": [
      "HalfCheetah-v1 8 4093.45123161 0.0017198785378411412\n"
     ]
    },
    {
     "name": "stderr",
     "output_type": "stream",
     "text": [
      "[2017-11-06 00:30:20,409] Making new env: HalfCheetah-v1\n"
     ]
    },
    {
     "name": "stdout",
     "output_type": "stream",
     "text": [
      "HalfCheetah-v1 9 4171.03930998 0.0017151209168881178\n"
     ]
    },
    {
     "name": "stderr",
     "output_type": "stream",
     "text": [
      "[2017-11-06 00:30:32,958] Making new env: HalfCheetah-v1\n"
     ]
    },
    {
     "name": "stdout",
     "output_type": "stream",
     "text": [
      "HalfCheetah-v1 10 4159.63171606 0.0017121582912281155\n"
     ]
    },
    {
     "name": "stderr",
     "output_type": "stream",
     "text": [
      "[2017-11-06 00:30:45,725] Making new env: HalfCheetah-v1\n"
     ]
    },
    {
     "name": "stdout",
     "output_type": "stream",
     "text": [
      "HalfCheetah-v1 11 4204.95811422 0.0017103775416314603\n"
     ]
    },
    {
     "name": "stderr",
     "output_type": "stream",
     "text": [
      "[2017-11-06 00:30:56,568] Making new env: HalfCheetah-v1\n"
     ]
    },
    {
     "name": "stdout",
     "output_type": "stream",
     "text": [
      "HalfCheetah-v1 12 4043.30238367 0.0017087707130797208\n"
     ]
    },
    {
     "name": "stderr",
     "output_type": "stream",
     "text": [
      "[2017-11-06 00:31:08,866] Making new env: HalfCheetah-v1\n"
     ]
    },
    {
     "name": "stdout",
     "output_type": "stream",
     "text": [
      "HalfCheetah-v1 13 4178.28878025 0.0017124673439003527\n"
     ]
    },
    {
     "name": "stderr",
     "output_type": "stream",
     "text": [
      "[2017-11-06 00:31:19,633] Making new env: HalfCheetah-v1\n"
     ]
    },
    {
     "name": "stdout",
     "output_type": "stream",
     "text": [
      "HalfCheetah-v1 14 4125.9903828 0.001723959074653685\n"
     ]
    },
    {
     "name": "stderr",
     "output_type": "stream",
     "text": [
      "[2017-11-06 00:31:30,125] Making new env: HalfCheetah-v1\n"
     ]
    },
    {
     "name": "stdout",
     "output_type": "stream",
     "text": [
      "HalfCheetah-v1 15 4081.77863202 0.0017087823299504817\n"
     ]
    },
    {
     "name": "stderr",
     "output_type": "stream",
     "text": [
      "[2017-11-06 00:31:40,307] Making new env: HalfCheetah-v1\n"
     ]
    },
    {
     "name": "stdout",
     "output_type": "stream",
     "text": [
      "HalfCheetah-v1 16 4103.37210459 0.0017122877740301191\n"
     ]
    },
    {
     "name": "stderr",
     "output_type": "stream",
     "text": [
      "[2017-11-06 00:31:50,540] Making new env: HalfCheetah-v1\n"
     ]
    },
    {
     "name": "stdout",
     "output_type": "stream",
     "text": [
      "HalfCheetah-v1 17 4153.40493979 0.0017024449987336993\n"
     ]
    },
    {
     "name": "stderr",
     "output_type": "stream",
     "text": [
      "[2017-11-06 00:32:00,937] Making new env: HalfCheetah-v1\n"
     ]
    },
    {
     "name": "stdout",
     "output_type": "stream",
     "text": [
      "HalfCheetah-v1 18 4088.31750972 0.0017027025551721454\n"
     ]
    },
    {
     "name": "stderr",
     "output_type": "stream",
     "text": [
      "[2017-11-06 00:32:11,391] Making new env: HalfCheetah-v1\n"
     ]
    },
    {
     "name": "stdout",
     "output_type": "stream",
     "text": [
      "HalfCheetah-v1 19 4121.32630492 0.0017158291625604034\n"
     ]
    },
    {
     "name": "stderr",
     "output_type": "stream",
     "text": [
      "[2017-11-06 00:32:22,250] Making new env: HalfCheetah-v1\n"
     ]
    },
    {
     "name": "stdout",
     "output_type": "stream",
     "text": [
      "HalfCheetah-v1 20 4069.81561411 0.0017111000720784067\n"
     ]
    },
    {
     "name": "stderr",
     "output_type": "stream",
     "text": [
      "[2017-11-06 00:32:32,474] Making new env: HalfCheetah-v1\n"
     ]
    },
    {
     "name": "stdout",
     "output_type": "stream",
     "text": [
      "HalfCheetah-v1 21 4133.04314021 0.001719631543252617\n"
     ]
    },
    {
     "name": "stderr",
     "output_type": "stream",
     "text": [
      "[2017-11-06 00:32:42,657] Making new env: HalfCheetah-v1\n"
     ]
    },
    {
     "name": "stdout",
     "output_type": "stream",
     "text": [
      "HalfCheetah-v1 22 4114.45360989 0.0016985068765096366\n"
     ]
    },
    {
     "name": "stderr",
     "output_type": "stream",
     "text": [
      "[2017-11-06 00:32:53,146] Making new env: HalfCheetah-v1\n"
     ]
    },
    {
     "name": "stdout",
     "output_type": "stream",
     "text": [
      "HalfCheetah-v1 23 4109.1438018 0.0017186162011511624\n"
     ]
    },
    {
     "name": "stderr",
     "output_type": "stream",
     "text": [
      "[2017-11-06 00:33:07,215] Making new env: HalfCheetah-v1\n"
     ]
    },
    {
     "name": "stdout",
     "output_type": "stream",
     "text": [
      "HalfCheetah-v1 24 4073.24745053 0.0017010873997583985\n"
     ]
    },
    {
     "name": "stderr",
     "output_type": "stream",
     "text": [
      "[2017-11-06 00:33:35,645] Making new env: HalfCheetah-v1\n"
     ]
    },
    {
     "name": "stdout",
     "output_type": "stream",
     "text": [
      "HalfCheetah-v1 25 4220.20877063 0.0017186168046668172\n"
     ]
    },
    {
     "name": "stderr",
     "output_type": "stream",
     "text": [
      "[2017-11-06 00:34:04,126] Making new env: HalfCheetah-v1\n"
     ]
    },
    {
     "name": "stdout",
     "output_type": "stream",
     "text": [
      "HalfCheetah-v1 26 4197.83442911 0.0017095889136381447\n"
     ]
    },
    {
     "name": "stderr",
     "output_type": "stream",
     "text": [
      "[2017-11-06 00:34:28,796] Making new env: HalfCheetah-v1\n"
     ]
    },
    {
     "name": "stdout",
     "output_type": "stream",
     "text": [
      "HalfCheetah-v1 27 4146.4472182 0.001714705435540527\n"
     ]
    },
    {
     "name": "stderr",
     "output_type": "stream",
     "text": [
      "[2017-11-06 00:34:51,334] Making new env: HalfCheetah-v1\n"
     ]
    },
    {
     "name": "stdout",
     "output_type": "stream",
     "text": [
      "HalfCheetah-v1 28 4069.51883628 0.0017229108191095294\n"
     ]
    },
    {
     "name": "stderr",
     "output_type": "stream",
     "text": [
      "[2017-11-06 00:35:08,859] Making new env: HalfCheetah-v1\n"
     ]
    },
    {
     "name": "stdout",
     "output_type": "stream",
     "text": [
      "HalfCheetah-v1 29 4184.45339306 0.0017286551883257926\n"
     ]
    },
    {
     "name": "stderr",
     "output_type": "stream",
     "text": [
      "[2017-11-06 00:35:21,869] Making new env: HalfCheetah-v1\n"
     ]
    },
    {
     "name": "stdout",
     "output_type": "stream",
     "text": [
      "HalfCheetah-v1 30 4201.85804986 0.0017189797793142497\n"
     ]
    },
    {
     "name": "stderr",
     "output_type": "stream",
     "text": [
      "[2017-11-06 00:35:34,230] Making new env: HalfCheetah-v1\n"
     ]
    },
    {
     "name": "stdout",
     "output_type": "stream",
     "text": [
      "HalfCheetah-v1 31 4095.37128584 0.0017010258335992694\n"
     ]
    },
    {
     "name": "stderr",
     "output_type": "stream",
     "text": [
      "[2017-11-06 00:35:46,891] Making new env: HalfCheetah-v1\n"
     ]
    },
    {
     "name": "stdout",
     "output_type": "stream",
     "text": [
      "HalfCheetah-v1 32 4110.84460139 0.0017200551629066468\n"
     ]
    },
    {
     "name": "stderr",
     "output_type": "stream",
     "text": [
      "[2017-11-06 00:35:59,298] Making new env: HalfCheetah-v1\n"
     ]
    },
    {
     "name": "stdout",
     "output_type": "stream",
     "text": [
      "HalfCheetah-v1 33 4137.25904773 0.001726625647544861\n"
     ]
    },
    {
     "name": "stderr",
     "output_type": "stream",
     "text": [
      "[2017-11-06 00:36:12,041] Making new env: HalfCheetah-v1\n"
     ]
    },
    {
     "name": "stdout",
     "output_type": "stream",
     "text": [
      "HalfCheetah-v1 34 4124.93953918 0.0017176339328289032\n"
     ]
    },
    {
     "name": "stderr",
     "output_type": "stream",
     "text": [
      "[2017-11-06 00:36:24,706] Making new env: HalfCheetah-v1\n"
     ]
    },
    {
     "name": "stdout",
     "output_type": "stream",
     "text": [
      "HalfCheetah-v1 35 4085.20790382 0.0017126300500892103\n"
     ]
    },
    {
     "name": "stderr",
     "output_type": "stream",
     "text": [
      "[2017-11-06 00:36:37,540] Making new env: HalfCheetah-v1\n"
     ]
    },
    {
     "name": "stdout",
     "output_type": "stream",
     "text": [
      "HalfCheetah-v1 36 4149.15088628 0.001716387934833765\n"
     ]
    },
    {
     "name": "stderr",
     "output_type": "stream",
     "text": [
      "[2017-11-06 00:36:49,934] Making new env: HalfCheetah-v1\n"
     ]
    },
    {
     "name": "stdout",
     "output_type": "stream",
     "text": [
      "HalfCheetah-v1 37 4153.86115874 0.0017236166293546557\n"
     ]
    },
    {
     "name": "stderr",
     "output_type": "stream",
     "text": [
      "[2017-11-06 00:37:02,347] Making new env: HalfCheetah-v1\n"
     ]
    },
    {
     "name": "stdout",
     "output_type": "stream",
     "text": [
      "HalfCheetah-v1 38 4088.10996768 0.001709995786845684\n"
     ]
    },
    {
     "name": "stderr",
     "output_type": "stream",
     "text": [
      "[2017-11-06 00:37:14,657] Making new env: HalfCheetah-v1\n"
     ]
    },
    {
     "name": "stdout",
     "output_type": "stream",
     "text": [
      "HalfCheetah-v1 39 4052.19009704 0.001727390037793666\n"
     ]
    },
    {
     "name": "stderr",
     "output_type": "stream",
     "text": [
      "[2017-11-06 00:37:27,155] Making new env: HalfCheetah-v1\n"
     ]
    },
    {
     "name": "stdout",
     "output_type": "stream",
     "text": [
      "HalfCheetah-v1 40 4177.0465516 0.0017185091243498028\n"
     ]
    },
    {
     "name": "stderr",
     "output_type": "stream",
     "text": [
      "[2017-11-06 00:37:39,500] Making new env: HalfCheetah-v1\n"
     ]
    },
    {
     "name": "stdout",
     "output_type": "stream",
     "text": [
      "HalfCheetah-v1 41 4218.70433686 0.0017147887955605984\n"
     ]
    },
    {
     "name": "stderr",
     "output_type": "stream",
     "text": [
      "[2017-11-06 00:37:51,627] Making new env: HalfCheetah-v1\n"
     ]
    },
    {
     "name": "stdout",
     "output_type": "stream",
     "text": [
      "HalfCheetah-v1 42 4220.43937389 0.0017227036665193737\n"
     ]
    },
    {
     "name": "stderr",
     "output_type": "stream",
     "text": [
      "[2017-11-06 00:38:04,513] Making new env: HalfCheetah-v1\n"
     ]
    },
    {
     "name": "stdout",
     "output_type": "stream",
     "text": [
      "HalfCheetah-v1 43 4200.48212465 0.0017169769665412605\n"
     ]
    },
    {
     "name": "stderr",
     "output_type": "stream",
     "text": [
      "[2017-11-06 00:38:16,608] Making new env: HalfCheetah-v1\n"
     ]
    },
    {
     "name": "stdout",
     "output_type": "stream",
     "text": [
      "HalfCheetah-v1 44 4137.12126636 0.001702115062084049\n"
     ]
    },
    {
     "name": "stderr",
     "output_type": "stream",
     "text": [
      "[2017-11-06 00:38:30,114] Making new env: HalfCheetah-v1\n"
     ]
    },
    {
     "name": "stdout",
     "output_type": "stream",
     "text": [
      "HalfCheetah-v1 45 4122.88380095 0.0016976459321379662\n"
     ]
    },
    {
     "name": "stderr",
     "output_type": "stream",
     "text": [
      "[2017-11-06 00:38:42,777] Making new env: HalfCheetah-v1\n"
     ]
    },
    {
     "name": "stdout",
     "output_type": "stream",
     "text": [
      "HalfCheetah-v1 46 4174.51950183 0.0017226261919923128\n"
     ]
    },
    {
     "name": "stderr",
     "output_type": "stream",
     "text": [
      "[2017-11-06 00:38:55,683] Making new env: HalfCheetah-v1\n"
     ]
    },
    {
     "name": "stdout",
     "output_type": "stream",
     "text": [
      "HalfCheetah-v1 47 4036.73476693 0.0017045693364366888\n"
     ]
    },
    {
     "name": "stderr",
     "output_type": "stream",
     "text": [
      "[2017-11-06 00:39:09,788] Making new env: HalfCheetah-v1\n"
     ]
    },
    {
     "name": "stdout",
     "output_type": "stream",
     "text": [
      "HalfCheetah-v1 48 4124.30921119 0.001715825452003628\n"
     ]
    },
    {
     "name": "stderr",
     "output_type": "stream",
     "text": [
      "[2017-11-06 00:39:21,976] Making new env: HalfCheetah-v1\n"
     ]
    },
    {
     "name": "stdout",
     "output_type": "stream",
     "text": [
      "HalfCheetah-v1 49 4180.97730819 0.001703333463575691\n"
     ]
    },
    {
     "name": "stderr",
     "output_type": "stream",
     "text": [
      "[2017-11-06 00:39:34,081] Making new env: HalfCheetah-v1\n"
     ]
    },
    {
     "name": "stdout",
     "output_type": "stream",
     "text": [
      "HalfCheetah-v1 50 4138.90510764 0.0017055967849120498\n"
     ]
    },
    {
     "name": "stderr",
     "output_type": "stream",
     "text": [
      "[2017-11-06 00:39:46,990] Making new env: HalfCheetah-v1\n"
     ]
    },
    {
     "name": "stdout",
     "output_type": "stream",
     "text": [
      "HalfCheetah-v1 51 4118.40900797 0.0017174841381981968\n"
     ]
    },
    {
     "name": "stderr",
     "output_type": "stream",
     "text": [
      "[2017-11-06 00:39:59,042] Making new env: HalfCheetah-v1\n"
     ]
    },
    {
     "name": "stdout",
     "output_type": "stream",
     "text": [
      "HalfCheetah-v1 52 4028.55788606 0.0017004282051697372\n"
     ]
    },
    {
     "name": "stderr",
     "output_type": "stream",
     "text": [
      "[2017-11-06 00:40:11,935] Making new env: HalfCheetah-v1\n"
     ]
    },
    {
     "name": "stdout",
     "output_type": "stream",
     "text": [
      "HalfCheetah-v1 53 4145.8089288 0.001715144152250141\n"
     ]
    },
    {
     "name": "stderr",
     "output_type": "stream",
     "text": [
      "[2017-11-06 00:40:25,131] Making new env: HalfCheetah-v1\n"
     ]
    },
    {
     "name": "stdout",
     "output_type": "stream",
     "text": [
      "HalfCheetah-v1 54 4106.25450104 0.0017074180609360338\n"
     ]
    },
    {
     "name": "stderr",
     "output_type": "stream",
     "text": [
      "[2017-11-06 00:40:37,668] Making new env: HalfCheetah-v1\n"
     ]
    },
    {
     "name": "stdout",
     "output_type": "stream",
     "text": [
      "HalfCheetah-v1 55 4126.14988904 0.0017230039657466114\n"
     ]
    },
    {
     "name": "stderr",
     "output_type": "stream",
     "text": [
      "[2017-11-06 00:40:49,699] Making new env: HalfCheetah-v1\n"
     ]
    },
    {
     "name": "stdout",
     "output_type": "stream",
     "text": [
      "HalfCheetah-v1 56 4128.61979972 0.0017097992536798119\n"
     ]
    },
    {
     "name": "stderr",
     "output_type": "stream",
     "text": [
      "[2017-11-06 00:41:02,354] Making new env: HalfCheetah-v1\n"
     ]
    },
    {
     "name": "stdout",
     "output_type": "stream",
     "text": [
      "HalfCheetah-v1 57 4169.65475318 0.0017067460796609522\n"
     ]
    },
    {
     "name": "stderr",
     "output_type": "stream",
     "text": [
      "[2017-11-06 00:41:14,467] Making new env: HalfCheetah-v1\n"
     ]
    },
    {
     "name": "stdout",
     "output_type": "stream",
     "text": [
      "HalfCheetah-v1 58 4142.02453812 0.0017032781337201596\n"
     ]
    },
    {
     "name": "stderr",
     "output_type": "stream",
     "text": [
      "[2017-11-06 00:41:27,249] Making new env: HalfCheetah-v1\n"
     ]
    },
    {
     "name": "stdout",
     "output_type": "stream",
     "text": [
      "HalfCheetah-v1 59 4150.48878217 0.0017042180460877716\n"
     ]
    },
    {
     "name": "stderr",
     "output_type": "stream",
     "text": [
      "[2017-11-06 00:41:39,570] Making new env: HalfCheetah-v1\n"
     ]
    },
    {
     "name": "stdout",
     "output_type": "stream",
     "text": [
      "HalfCheetah-v1 60 4205.17295206 0.0017054678252339363\n"
     ]
    },
    {
     "name": "stderr",
     "output_type": "stream",
     "text": [
      "[2017-11-06 00:41:52,166] Making new env: HalfCheetah-v1\n"
     ]
    },
    {
     "name": "stdout",
     "output_type": "stream",
     "text": [
      "HalfCheetah-v1 61 4071.52835291 0.0017135017929598689\n"
     ]
    },
    {
     "name": "stderr",
     "output_type": "stream",
     "text": [
      "[2017-11-06 00:42:04,476] Making new env: HalfCheetah-v1\n"
     ]
    },
    {
     "name": "stdout",
     "output_type": "stream",
     "text": [
      "HalfCheetah-v1 62 4126.30182093 0.0017054657635837793\n"
     ]
    },
    {
     "name": "stderr",
     "output_type": "stream",
     "text": [
      "[2017-11-06 00:42:16,660] Making new env: HalfCheetah-v1\n"
     ]
    },
    {
     "name": "stdout",
     "output_type": "stream",
     "text": [
      "HalfCheetah-v1 63 4080.86087138 0.0017190889281406998\n"
     ]
    },
    {
     "name": "stderr",
     "output_type": "stream",
     "text": [
      "[2017-11-06 00:42:29,668] Making new env: HalfCheetah-v1\n"
     ]
    },
    {
     "name": "stdout",
     "output_type": "stream",
     "text": [
      "HalfCheetah-v1 64 4094.0547718 0.0017087242218852042\n"
     ]
    },
    {
     "name": "stderr",
     "output_type": "stream",
     "text": [
      "[2017-11-06 00:42:42,368] Making new env: HalfCheetah-v1\n"
     ]
    },
    {
     "name": "stdout",
     "output_type": "stream",
     "text": [
      "HalfCheetah-v1 65 4134.55829492 0.0017103280518949032\n"
     ]
    },
    {
     "name": "stderr",
     "output_type": "stream",
     "text": [
      "[2017-11-06 00:42:54,589] Making new env: HalfCheetah-v1\n"
     ]
    },
    {
     "name": "stdout",
     "output_type": "stream",
     "text": [
      "HalfCheetah-v1 66 4181.92427592 0.0017167312135919928\n"
     ]
    },
    {
     "name": "stderr",
     "output_type": "stream",
     "text": [
      "[2017-11-06 00:43:06,745] Making new env: HalfCheetah-v1\n"
     ]
    },
    {
     "name": "stdout",
     "output_type": "stream",
     "text": [
      "HalfCheetah-v1 67 4164.02803978 0.0017163441371917726\n"
     ]
    },
    {
     "name": "stderr",
     "output_type": "stream",
     "text": [
      "[2017-11-06 00:43:20,043] Making new env: HalfCheetah-v1\n"
     ]
    },
    {
     "name": "stdout",
     "output_type": "stream",
     "text": [
      "HalfCheetah-v1 68 4079.6915951 0.001710530187226832\n"
     ]
    },
    {
     "name": "stderr",
     "output_type": "stream",
     "text": [
      "[2017-11-06 00:43:32,427] Making new env: HalfCheetah-v1\n"
     ]
    },
    {
     "name": "stdout",
     "output_type": "stream",
     "text": [
      "HalfCheetah-v1 69 4095.71398606 0.0017172713277488947\n"
     ]
    },
    {
     "name": "stderr",
     "output_type": "stream",
     "text": [
      "[2017-11-06 00:43:44,814] Making new env: HalfCheetah-v1\n"
     ]
    },
    {
     "name": "stdout",
     "output_type": "stream",
     "text": [
      "HalfCheetah-v1 70 4109.43986546 0.0017082138031721116\n"
     ]
    },
    {
     "name": "stderr",
     "output_type": "stream",
     "text": [
      "[2017-11-06 00:43:56,867] Making new env: HalfCheetah-v1\n"
     ]
    },
    {
     "name": "stdout",
     "output_type": "stream",
     "text": [
      "HalfCheetah-v1 71 4124.86812173 0.0017056923901289701\n"
     ]
    },
    {
     "name": "stderr",
     "output_type": "stream",
     "text": [
      "[2017-11-06 00:44:09,539] Making new env: HalfCheetah-v1\n"
     ]
    },
    {
     "name": "stdout",
     "output_type": "stream",
     "text": [
      "HalfCheetah-v1 72 4217.7073264 0.001712951753437519\n"
     ]
    },
    {
     "name": "stderr",
     "output_type": "stream",
     "text": [
      "[2017-11-06 00:44:22,225] Making new env: HalfCheetah-v1\n"
     ]
    },
    {
     "name": "stdout",
     "output_type": "stream",
     "text": [
      "HalfCheetah-v1 73 4150.9414598 0.001709523898269981\n"
     ]
    },
    {
     "name": "stderr",
     "output_type": "stream",
     "text": [
      "[2017-11-06 00:44:34,744] Making new env: HalfCheetah-v1\n"
     ]
    },
    {
     "name": "stdout",
     "output_type": "stream",
     "text": [
      "HalfCheetah-v1 74 4065.68599622 0.001711558267660439\n"
     ]
    },
    {
     "name": "stderr",
     "output_type": "stream",
     "text": [
      "[2017-11-06 00:44:46,832] Making new env: HalfCheetah-v1\n"
     ]
    },
    {
     "name": "stdout",
     "output_type": "stream",
     "text": [
      "HalfCheetah-v1 75 4129.88211009 0.0017028834602609278\n"
     ]
    },
    {
     "name": "stderr",
     "output_type": "stream",
     "text": [
      "[2017-11-06 00:44:59,577] Making new env: HalfCheetah-v1\n"
     ]
    },
    {
     "name": "stdout",
     "output_type": "stream",
     "text": [
      "HalfCheetah-v1 76 4105.66613951 0.001707457326799631\n"
     ]
    },
    {
     "name": "stderr",
     "output_type": "stream",
     "text": [
      "[2017-11-06 00:45:12,150] Making new env: HalfCheetah-v1\n"
     ]
    },
    {
     "name": "stdout",
     "output_type": "stream",
     "text": [
      "HalfCheetah-v1 77 4109.49772347 0.0017159943640977144\n"
     ]
    },
    {
     "name": "stderr",
     "output_type": "stream",
     "text": [
      "[2017-11-06 00:45:24,765] Making new env: HalfCheetah-v1\n"
     ]
    },
    {
     "name": "stdout",
     "output_type": "stream",
     "text": [
      "HalfCheetah-v1 78 4154.42846133 0.001712064184397459\n"
     ]
    },
    {
     "name": "stderr",
     "output_type": "stream",
     "text": [
      "[2017-11-06 00:45:37,347] Making new env: HalfCheetah-v1\n"
     ]
    },
    {
     "name": "stdout",
     "output_type": "stream",
     "text": [
      "HalfCheetah-v1 79 4144.87609715 0.0017062006726674735\n"
     ]
    },
    {
     "name": "stderr",
     "output_type": "stream",
     "text": [
      "[2017-11-06 00:45:49,362] Making new env: HalfCheetah-v1\n"
     ]
    },
    {
     "name": "stdout",
     "output_type": "stream",
     "text": [
      "HalfCheetah-v1 80 4112.64361395 0.0017210432731360197\n"
     ]
    },
    {
     "name": "stderr",
     "output_type": "stream",
     "text": [
      "[2017-11-06 00:46:01,751] Making new env: HalfCheetah-v1\n"
     ]
    },
    {
     "name": "stdout",
     "output_type": "stream",
     "text": [
      "HalfCheetah-v1 81 4096.08192963 0.0017129263359680772\n"
     ]
    },
    {
     "name": "stderr",
     "output_type": "stream",
     "text": [
      "[2017-11-06 00:46:14,487] Making new env: HalfCheetah-v1\n"
     ]
    },
    {
     "name": "stdout",
     "output_type": "stream",
     "text": [
      "HalfCheetah-v1 82 4079.96101594 0.0017133629588969052\n"
     ]
    },
    {
     "name": "stderr",
     "output_type": "stream",
     "text": [
      "[2017-11-06 00:46:27,095] Making new env: HalfCheetah-v1\n"
     ]
    },
    {
     "name": "stdout",
     "output_type": "stream",
     "text": [
      "HalfCheetah-v1 83 4108.07062668 0.0017117648735642432\n"
     ]
    },
    {
     "name": "stderr",
     "output_type": "stream",
     "text": [
      "[2017-11-06 00:46:40,397] Making new env: HalfCheetah-v1\n"
     ]
    },
    {
     "name": "stdout",
     "output_type": "stream",
     "text": [
      "HalfCheetah-v1 84 4209.46454963 0.0017178942080773414\n"
     ]
    },
    {
     "name": "stderr",
     "output_type": "stream",
     "text": [
      "[2017-11-06 00:46:53,002] Making new env: HalfCheetah-v1\n"
     ]
    },
    {
     "name": "stdout",
     "output_type": "stream",
     "text": [
      "HalfCheetah-v1 85 4162.84889561 0.0017171331586688756\n"
     ]
    },
    {
     "name": "stderr",
     "output_type": "stream",
     "text": [
      "[2017-11-06 00:47:05,630] Making new env: HalfCheetah-v1\n"
     ]
    },
    {
     "name": "stdout",
     "output_type": "stream",
     "text": [
      "HalfCheetah-v1 86 4125.87304261 0.001706172175593674\n"
     ]
    },
    {
     "name": "stderr",
     "output_type": "stream",
     "text": [
      "[2017-11-06 00:47:18,002] Making new env: HalfCheetah-v1\n"
     ]
    },
    {
     "name": "stdout",
     "output_type": "stream",
     "text": [
      "HalfCheetah-v1 87 4185.11766982 0.0017115675884857775\n"
     ]
    },
    {
     "name": "stderr",
     "output_type": "stream",
     "text": [
      "[2017-11-06 00:47:30,415] Making new env: HalfCheetah-v1\n"
     ]
    },
    {
     "name": "stdout",
     "output_type": "stream",
     "text": [
      "HalfCheetah-v1 88 4164.06935211 0.001708624685704708\n"
     ]
    },
    {
     "name": "stderr",
     "output_type": "stream",
     "text": [
      "[2017-11-06 00:47:42,758] Making new env: HalfCheetah-v1\n"
     ]
    },
    {
     "name": "stdout",
     "output_type": "stream",
     "text": [
      "HalfCheetah-v1 89 4140.98411107 0.0017170936284027995\n",
      "Environment HalfCheetah-v1. State space dim 17, action space dim 6.\n",
      "        DAgger run on 90 rollouts.\n",
      "        Mean reward 4161.147. Reward std 68.310.\n",
      "        \n"
     ]
    }
   ],
   "source": [
    "learning_rate = 1e-5\n",
    "\n",
    "#environments = 'Ant-v1 HalfCheetah-v1 Hopper-v1 Humanoid-v1 Reacher-v1 Walker2d-v1'.split(' ')\n",
    "environments = 'HalfCheetah-v1'.split(' ')\n",
    "\n",
    "# results = {}\n",
    "for envname in environments:\n",
    "    env = gym.make(envname)\n",
    "    state_shape = env.observation_space.shape[0]\n",
    "    actions_shape = env.action_space.shape[0]\n",
    "\n",
    "    print('Starting {} environment. State space dim {}, action space dim {}.'.format(\n",
    "        envname,\n",
    "        state_shape,\n",
    "        actions_shape)\n",
    "         )\n",
    "\n",
    "#     ffn = FFN(state_shape, 128, 128, 128,actions_shape,dropout_rate = 0)\n",
    "\n",
    "    # Warm start\n",
    "    ffn = results[envname]['agent']\n",
    "    args = pd.Series({\n",
    "            'expert_policy_file':'experts/' + envname + '.pkl',\n",
    "            'envname': envname,\n",
    "            'max_timesteps': None,\n",
    "            'num_rollouts':90,\n",
    "            'render': False\n",
    "        })\n",
    "\n",
    "    returns,errors,expert_returns = train_DAgger(ffn, args)\n",
    "    \n",
    "    print('''Environment {}. State space dim {}, action space dim {}.\n",
    "        DAgger run on {} rollouts.\n",
    "        Mean reward {:.3f}. Reward std {:.3f}.\n",
    "        '''.format(\n",
    "        envname,\n",
    "        state_shape,\n",
    "        actions_shape,\n",
    "        args.num_rollouts,\n",
    "        np.mean(returns[-20:]),\n",
    "        np.std(returns[-20:])\n",
    "    ))\n",
    "    results[envname] = {'returns':returns,'errors':errors,'expert_returns':expert_returns, 'agent':ffn}\n",
    "pickle.dump(results,open('DAgger_results.pck','wb'))\n"
   ]
  },
  {
   "cell_type": "code",
   "execution_count": 34,
   "metadata": {
    "scrolled": true
   },
   "outputs": [
    {
     "name": "stdout",
     "output_type": "stream",
     "text": [
      "Environment HalfCheetah-v1. State space dim 17, action space dim 6.\n",
      "        DAgger run on 90 rollouts.\n",
      "        Mean reward 4161.147. Reward std 68.310.\n",
      "        Mean expert reward 4114.714. Expert reward std 78.080.\n",
      "        \n"
     ]
    }
   ],
   "source": [
    "for envname in environments:\n",
    "    print('''Environment {}. State space dim {}, action space dim {}.\n",
    "        DAgger run on {} rollouts.\n",
    "        Mean reward {:.3f}. Reward std {:.3f}.\n",
    "        Mean expert reward {:.3f}. Expert reward std {:.3f}.\n",
    "        '''.format(\n",
    "        envname,\n",
    "        state_shape,\n",
    "        actions_shape,\n",
    "        args.num_rollouts,\n",
    "        np.mean(results[envname]['returns'][-20:]),\n",
    "        np.std(results[envname]['returns'][-20:]),\n",
    "        np.mean(results[envname]['expert_returns'][-20:]),\n",
    "        np.std(results[envname]['expert_returns'][-20:])\n",
    "\n",
    "    ))\n",
    " "
   ]
  },
  {
   "cell_type": "code",
   "execution_count": 49,
   "metadata": {
    "scrolled": false
   },
   "outputs": [
    {
     "data": {
      "image/png": "[encoded data removed]",
      "text/plain": [
       "<matplotlib.figure.Figure at 0x7f1660008828>"
      ]
     },
     "metadata": {},
     "output_type": "display_data"
    }
   ],
   "source": [
    "import matplotlib.pyplot as plt\n",
    "%matplotlib inline\n",
    "fig, axs = plt.subplots(nrows=len(environments), ncols=1, figsize = (12, 8*len(environments)), sharex=True)\n",
    "#\n",
    "for envname in environments:\n",
    "    x = range(int(len(results[envname]['returns'])/10))\n",
    "    y,yerr = [], []\n",
    "    for i in x:\n",
    "        y.append(  np.mean(results[envname]['returns'][i*10:(i+1)*10]))\n",
    "        yerr.append(np.std(results[envname]['returns'][i*10:(i+1)*10]))\n",
    "    ax = axs #[environments.index(envname)]\n",
    "    ax.errorbar(x, y, yerr=yerr, fmt='-')\n",
    "    ax.errorbar(x,[np.mean(results[envname]['expert_returns'])]*len(x),[np.std(results[envname]['expert_returns'])]*len(x))\n",
    "    ax.set_title(envname)\n",
    "    ax.set_xlabel('''Environment {}. State space dim {}, action space dim {}. DAgger run on {} rollouts.\n",
    "        Mean reward {:.3f}. Reward std {:.3f}. Mean expert reward {:.3f}. Expert reward std {:.3f}.\n",
    "        Model - forward fully connected NN with 3 hidden layers 128 neurons each.\n",
    "        Trained on several iterations with decreasing learning rates: 1e-2, 1e-3, 1e-4, 1e-5; \n",
    "        30 env rollouts per iteration.\n",
    "        '''.format(\n",
    "        envname,\n",
    "        state_shape,\n",
    "        actions_shape,\n",
    "        args.num_rollouts,\n",
    "        np.mean(results[envname]['returns'][-20:]),\n",
    "        np.std(results[envname]['returns'][-20:]),\n",
    "        np.mean(results[envname]['expert_returns'][-20:]),\n",
    "        np.std(results[envname]['expert_returns'][-20:])),\n",
    "        fontsize = 14\n",
    "           )\n",
    "    #ax.legend()\n"
   ]
  },
  {
   "cell_type": "code",
   "execution_count": 50,
   "metadata": {},
   "outputs": [],
   "source": [
    "fig.savefig('DAgger_HalfCheetah-v1.png')"
   ]
  },
  {
   "cell_type": "code",
   "execution_count": null,
   "metadata": {},
   "outputs": [],
   "source": [
    "\n",
    "import matplotlib.pyplot as plt\n",
    "%matplotlib inline\n",
    "\n",
    "fig, ax1 = plt.subplots()\n",
    "ax1.plot(returns, 'b-')\n",
    "#ax1.set_xlabel('time (s)')\n",
    "ax1.set_ylabel('error', color='b')\n",
    "ax1.tick_params('y', colors='b')\n",
    "\n",
    "ax2 = ax1.twinx()\n",
    "ax2.plot(returns, 'g')\n",
    "ax2.set_ylabel('reward', color='g')\n",
    "ax2.tick_params('y', colors='g')\n",
    "\n",
    "fig.tight_layout()\n",
    "plt.show()\n"
   ]
  },
  {
   "cell_type": "code",
   "execution_count": null,
   "metadata": {
    "collapsed": true
   },
   "outputs": [],
   "source": []
  },
  {
   "cell_type": "code",
   "execution_count": null,
   "metadata": {
    "collapsed": true
   },
   "outputs": [],
   "source": []
  }
 ],
 "metadata": {
  "kernelspec": {
   "display_name": "Python 3",
   "language": "python",
   "name": "python3"
  },
  "language_info": {
   "codemirror_mode": {
    "name": "ipython",
    "version": 3
   },
   "file_extension": ".py",
   "mimetype": "text/x-python",
   "name": "python",
   "nbconvert_exporter": "python",
   "pygments_lexer": "ipython3",
   "version": "3.6.1"
  }
 },
 "nbformat": 4,
 "nbformat_minor": 2
}
