{
 "cells": [
  {
   "cell_type": "markdown",
   "metadata": {},
   "source": [
    "Berceley Deep RL course. Fall 2017\n",
    "http://rll.berkeley.edu/deeprlcourse/\n",
    "Homework 1\n",
    "\n",
    "## Section 4.  DAgger\n",
    "1.  Implement DAgger.  See the code provided in\n",
    "run\n",
    "expert.py\n",
    "to see how to query the expert policy\n",
    "and perform roll-outs in the environment.\n",
    "2.  Run DAgger and report results on one task in which DAgger can learn a better policy than behavioral\n",
    "cloning.  Report your results in the form of a learning curve, plotting the number of DAgger iterations\n",
    "vs.  the policy’s mean return, with error bars to show the standard deviation.  Include the performance\n",
    "of the expert policy and the behavioral cloning agent on the same plot.  In the caption, state which\n",
    "task you used, and any details regarding network architecture, amount of data, etc.  (as in the previous\n",
    "section)."
   ]
  },
  {
   "cell_type": "code",
   "execution_count": 1,
   "metadata": {
    "collapsed": true
   },
   "outputs": [],
   "source": [
    "import gym\n",
    "\n",
    "import pickle\n",
    "import time\n",
    "import math\n",
    "import numpy as np\n",
    "\n",
    "import torch\n",
    "import torch.nn as nn\n",
    "import torch.optim as optim\n",
    "from torch.autograd import Variable\n",
    "import torch.nn.functional as F\n",
    "\n",
    "import matplotlib.pyplot as plt\n",
    "%matplotlib inline\n",
    "\n"
   ]
  },
  {
   "cell_type": "markdown",
   "metadata": {},
   "source": [
    "### Feed forward nn"
   ]
  },
  {
   "cell_type": "code",
   "execution_count": 2,
   "metadata": {
    "collapsed": true
   },
   "outputs": [],
   "source": [
    "class FFN(nn.Module):\n",
    "    def __init__(self, input_size, hidden_size1, hidden_size2, hidden_size3, output_size, dropout_rate = 0.3):\n",
    "        super(FFN, self).__init__()\n",
    "        self.dropout_rate = dropout_rate\n",
    "        self.fc1 = nn.Linear(input_size, hidden_size1)\n",
    "        self.drop1  = nn.Dropout(p = self.dropout_rate)\n",
    "        self.fc2 = nn.Linear(hidden_size1, hidden_size2)\n",
    "        self.drop2  = nn.Dropout(p = self.dropout_rate)\n",
    "        self.fc3 = nn.Linear(hidden_size2, hidden_size2)\n",
    "        self.drop3  = nn.Dropout(p = self.dropout_rate)\n",
    "        self.fc4 = nn.Linear(hidden_size3, output_size)\n",
    "\n",
    "    def forward(self, x):\n",
    "        x = F.sigmoid(self.fc1(x))\n",
    "        x = self.drop1(x)\n",
    "        x = F.relu(self.fc2(x))\n",
    "        x = self.drop2(x)\n",
    "        x = F.relu(self.fc3(x))\n",
    "        x = self.drop3(x)\n",
    "        x = self.fc4(x)\n",
    "        return x.view(x.size(0), -1)\n",
    "    \n",
    "    def set_dropout_rate(self, p):\n",
    "        self.dropout_rate = p\n",
    "        \n"
   ]
  },
  {
   "cell_type": "code",
   "execution_count": 3,
   "metadata": {
    "collapsed": true
   },
   "outputs": [],
   "source": [
    "criterion = torch.nn.L1Loss()\n",
    "\n",
    "# Training function\n",
    "def train_ffn(states_tensor, actions_tensor,learning_rate):\n",
    "    tmp_loss = 0\n",
    "    \n",
    "    ffn.zero_grad()\n",
    "\n",
    "    output = ffn(states_tensor)               # Predict action\n",
    "    loss = criterion(output, actions_tensor)  # Calculate error\n",
    "    tmp_loss += loss.data[0]\n",
    "    loss.backward()                              # Error backpropagation\n",
    "\n",
    "    for p in ffn.parameters():                   # Update net's parameters\n",
    "        p.data.add_(-learning_rate, p.grad.data)\n",
    "    \n",
    "    return output, tmp_loss "
   ]
  },
  {
   "cell_type": "code",
   "execution_count": 4,
   "metadata": {
    "collapsed": true
   },
   "outputs": [],
   "source": [
    "def get_expert_data(args,policy_fn):\n",
    "    with tf.Session():\n",
    "        tf_util.initialize()\n",
    "\n",
    "        env = gym.make(args.envname)\n",
    "        max_steps = args.max_timesteps or env.spec.timestep_limit\n",
    "\n",
    "        returns = []\n",
    "        observations = []\n",
    "        actions = []\n",
    "        for i in range(args.num_rollouts):\n",
    "#             print('iter', i)\n",
    "            obs = env.reset()\n",
    "            done = False\n",
    "            totalr = 0.\n",
    "            steps = 0\n",
    "            while not done:\n",
    "                action = policy_fn(obs[None,:])\n",
    "                observations.append(obs)\n",
    "                actions.append(action)\n",
    "                obs, r, done, _ = env.step(action)\n",
    "                totalr += r\n",
    "                steps += 1\n",
    "                if args.render:\n",
    "                    env.render()\n",
    "                #if steps % 100 == 0: print(\"%i/%i\"%(steps, max_steps))\n",
    "                if steps >= max_steps:\n",
    "                    break\n",
    "            returns.append(totalr)\n",
    "\n",
    "#         print('returns', returns)\n",
    "#         print('mean return', np.mean(returns))\n",
    "#         print('std of return', np.std(returns))\n",
    "\n",
    "        expert_data = {'observations': np.array(observations),\n",
    "                       'actions': np.array(actions)}\n",
    "    \n",
    "    return expert_data, returns\n",
    "\n",
    "def get_expert_actions(policy_fn,observations):\n",
    "    return policy_fn(np.array(observations))\n",
    "\n",
    "\n",
    "#Evaluate learned policy\n",
    "def run_agent(ffn, args):\n",
    "    dropout_rate = ffn.dropout_rate\n",
    "    ffn.dropout_rate = 0\n",
    "    env = gym.make(args.envname)\n",
    "    max_steps = args.max_timesteps or env.spec.timestep_limit\n",
    "\n",
    "    returns = []\n",
    "    observations = []\n",
    "    actions = []\n",
    "    for i in range(args.num_rollouts):\n",
    "        #print('iter', i)\n",
    "        obs = env.reset()\n",
    "        done = False\n",
    "        totalr = 0.\n",
    "        steps = 0\n",
    "        while not done:\n",
    "            action = ffn(Variable(torch.Tensor(obs))).data.numpy()  \n",
    "            observations.append(obs)\n",
    "            actions.append(action)\n",
    "            obs, r, done, _ = env.step(action)\n",
    "            totalr += r\n",
    "            steps += 1\n",
    "\n",
    "            if args.render:\n",
    "                env.render()\n",
    "\n",
    "            if steps >= max_steps:\n",
    "                break\n",
    "            \n",
    "        #print(totalr)\n",
    "        returns.append(totalr)\n",
    "\n",
    "    data = {'observations': np.array(observations),\n",
    "            'actions': np.array(actions)}\n",
    "    ffn.dropout_rate = dropout_rate\n",
    "    return data,returns\n"
   ]
  },
  {
   "cell_type": "code",
   "execution_count": null,
   "metadata": {
    "collapsed": true
   },
   "outputs": [],
   "source": []
  },
  {
   "cell_type": "code",
   "execution_count": 11,
   "metadata": {
    "collapsed": true
   },
   "outputs": [],
   "source": [
    "import pickle\n",
    "import tensorflow as tf\n",
    "import numpy as np\n",
    "import tf_util\n",
    "import gym\n",
    "import load_policy\n",
    "import pandas as pd\n",
    "\n",
    "tf.logging.set_verbosity(tf.logging.ERROR)\n",
    "\n",
    "def train_DAgger(ffn, args):\n",
    "    \n",
    "    minibatch_size = args.get('minibatch_size',16)\n",
    "    train_size = args.get('train_size',50000)\n",
    "\n",
    "#     print('loading and building expert policy')\n",
    "    target_policy_fn = load_policy.load_policy(args.expert_policy_file)\n",
    "#     print('loaded and built')\n",
    "    \n",
    "    with tf.Session():\n",
    "        tf_util.initialize()\n",
    "\n",
    "        # Get initial data    \n",
    "        get_expert_data_args = args.copy()\n",
    "        get_expert_data_args.num_rollouts = 10\n",
    "        expert_data, expert_returns = get_expert_data(get_expert_data_args, target_policy_fn) \n",
    "        train_data = expert_data\n",
    "        train_data['actions'] = train_data['actions'][:,0,:]\n",
    "#         print('init',train_data['actions'].shape)\n",
    "        env = gym.make(args.envname)\n",
    "        max_steps = args.max_timesteps or env.spec.timestep_limit\n",
    "\n",
    "        returns = []\n",
    "        errors = []\n",
    "#         observations = []\n",
    "#         actions = []\n",
    "        agent_args = args.copy()\n",
    "        agent_args.num_rollouts = 3\n",
    "        \n",
    "        for i in range(args.num_rollouts):\n",
    "            \n",
    "            # Train on expert_data\n",
    "            error = 0\n",
    "            print('train_size',len(train_data['observations']))\n",
    "            for _ in range(int(len(train_data['observations']) / minibatch_size) + 1):\n",
    "                idx = np.random.choice(len(train_data['observations']),minibatch_size)\n",
    "                _, err = train_ffn(Variable(torch.Tensor(train_data['observations'][idx])), \n",
    "                                         Variable(torch.Tensor(np.array(train_data['actions'][idx]))),\n",
    "                                         learning_rate\n",
    "                                        )\n",
    "                error += err\n",
    "            error /= len(train_data['observations'])\n",
    "            errors.append(error)\n",
    "            \n",
    "            # Get agent tragectory\n",
    "            agent_data, rollout_returns = run_agent(ffn, agent_args)\n",
    "            returns = returns + rollout_returns\n",
    "            \n",
    "            #Get expert actions for agent trajectory observations and add it to train data\n",
    "            expert_actions = get_expert_actions(target_policy_fn,agent_data['observations'])\n",
    "            train_data['observations'] = np.concatenate((train_data['observations'],agent_data['observations']))\n",
    "            train_data['actions'] = np.concatenate((train_data['actions'], expert_actions))\n",
    "            print(args.envname, i, np.mean(rollout_returns),error)\n",
    "    return returns,errors,expert_returns            \n",
    "            \n",
    " "
   ]
  },
  {
   "cell_type": "code",
   "execution_count": null,
   "metadata": {},
   "outputs": [],
   "source": []
  },
  {
   "cell_type": "markdown",
   "metadata": {},
   "source": [
    "### Train loop"
   ]
  },
  {
   "cell_type": "code",
   "execution_count": 24,
   "metadata": {},
   "outputs": [
    {
     "name": "stderr",
     "output_type": "stream",
     "text": [
      "[2017-11-06 19:48:55,298] Making new env: HalfCheetah-v1\n",
      "[2017-11-06 19:48:55,521] Making new env: HalfCheetah-v1\n"
     ]
    },
    {
     "name": "stdout",
     "output_type": "stream",
     "text": [
      "Starting HalfCheetah-v1 environment. State space dim 17, action space dim 6.\n",
      "obs (1, 17) (1, 17)\n"
     ]
    },
    {
     "name": "stderr",
     "output_type": "stream",
     "text": [
      "[2017-11-06 19:49:02,470] Making new env: HalfCheetah-v1\n"
     ]
    },
    {
     "name": "stdout",
     "output_type": "stream",
     "text": [
      "train_size 10000\n"
     ]
    },
    {
     "name": "stderr",
     "output_type": "stream",
     "text": [
      "[2017-11-06 19:49:04,086] Making new env: HalfCheetah-v1\n"
     ]
    },
    {
     "name": "stdout",
     "output_type": "stream",
     "text": [
      "HalfCheetah-v1 0 4115.34472133 0.0033308995719999075\n",
      "train_size 13000\n"
     ]
    },
    {
     "name": "stderr",
     "output_type": "stream",
     "text": [
      "[2017-11-06 19:49:08,980] Making new env: HalfCheetah-v1\n"
     ]
    },
    {
     "name": "stdout",
     "output_type": "stream",
     "text": [
      "HalfCheetah-v1 1 4070.64015 0.0033253934158442113\n",
      "train_size 16000\n"
     ]
    },
    {
     "name": "stderr",
     "output_type": "stream",
     "text": [
      "[2017-11-06 19:49:14,275] Making new env: HalfCheetah-v1\n"
     ]
    },
    {
     "name": "stdout",
     "output_type": "stream",
     "text": [
      "HalfCheetah-v1 2 4089.5064685 0.0033313295057741926\n",
      "train_size 19000\n"
     ]
    },
    {
     "name": "stderr",
     "output_type": "stream",
     "text": [
      "[2017-11-06 19:49:19,976] Making new env: HalfCheetah-v1\n"
     ]
    },
    {
     "name": "stdout",
     "output_type": "stream",
     "text": [
      "HalfCheetah-v1 3 3990.46715586 0.0033092214116140417\n",
      "train_size 22000\n"
     ]
    },
    {
     "name": "stderr",
     "output_type": "stream",
     "text": [
      "[2017-11-06 19:49:26,057] Making new env: HalfCheetah-v1\n"
     ]
    },
    {
     "name": "stdout",
     "output_type": "stream",
     "text": [
      "HalfCheetah-v1 4 3979.24072894 0.003327109789814461\n",
      "train_size 25000\n"
     ]
    },
    {
     "name": "stderr",
     "output_type": "stream",
     "text": [
      "[2017-11-06 19:49:32,478] Making new env: HalfCheetah-v1\n"
     ]
    },
    {
     "name": "stdout",
     "output_type": "stream",
     "text": [
      "HalfCheetah-v1 5 4134.38136559 0.003378672489821911\n",
      "train_size 28000\n"
     ]
    },
    {
     "name": "stderr",
     "output_type": "stream",
     "text": [
      "[2017-11-06 19:49:40,496] Making new env: HalfCheetah-v1\n"
     ]
    },
    {
     "name": "stdout",
     "output_type": "stream",
     "text": [
      "HalfCheetah-v1 6 4061.16402322 0.0033562965886667372\n",
      "train_size 31000\n"
     ]
    },
    {
     "name": "stderr",
     "output_type": "stream",
     "text": [
      "[2017-11-06 19:49:48,940] Making new env: HalfCheetah-v1\n"
     ]
    },
    {
     "name": "stdout",
     "output_type": "stream",
     "text": [
      "HalfCheetah-v1 7 4231.2499119 0.0033317635264247655\n",
      "train_size 34000\n"
     ]
    },
    {
     "name": "stderr",
     "output_type": "stream",
     "text": [
      "[2017-11-06 19:49:57,715] Making new env: HalfCheetah-v1\n"
     ]
    },
    {
     "name": "stdout",
     "output_type": "stream",
     "text": [
      "HalfCheetah-v1 8 4110.34845339 0.003335520336185308\n",
      "train_size 37000\n"
     ]
    },
    {
     "name": "stderr",
     "output_type": "stream",
     "text": [
      "[2017-11-06 19:50:08,204] Making new env: HalfCheetah-v1\n"
     ]
    },
    {
     "name": "stdout",
     "output_type": "stream",
     "text": [
      "HalfCheetah-v1 9 3955.54453554 0.003340806778218295\n",
      "train_size 40000\n"
     ]
    },
    {
     "name": "stderr",
     "output_type": "stream",
     "text": [
      "[2017-11-06 19:50:16,923] Making new env: HalfCheetah-v1\n"
     ]
    },
    {
     "name": "stdout",
     "output_type": "stream",
     "text": [
      "HalfCheetah-v1 10 4063.03683281 0.003368410898372531\n",
      "train_size 43000\n"
     ]
    },
    {
     "name": "stderr",
     "output_type": "stream",
     "text": [
      "[2017-11-06 19:50:25,628] Making new env: HalfCheetah-v1\n"
     ]
    },
    {
     "name": "stdout",
     "output_type": "stream",
     "text": [
      "HalfCheetah-v1 11 4158.31978633 0.003367854242191412\n",
      "train_size 46000\n"
     ]
    },
    {
     "name": "stderr",
     "output_type": "stream",
     "text": [
      "[2017-11-06 19:50:36,453] Making new env: HalfCheetah-v1\n"
     ]
    },
    {
     "name": "stdout",
     "output_type": "stream",
     "text": [
      "HalfCheetah-v1 12 4049.71827635 0.003340949518241636\n",
      "train_size 49000\n"
     ]
    },
    {
     "name": "stderr",
     "output_type": "stream",
     "text": [
      "[2017-11-06 19:50:47,258] Making new env: HalfCheetah-v1\n"
     ]
    },
    {
     "name": "stdout",
     "output_type": "stream",
     "text": [
      "HalfCheetah-v1 13 4154.35884112 0.0033559528750424484\n",
      "train_size 52000\n"
     ]
    },
    {
     "name": "stderr",
     "output_type": "stream",
     "text": [
      "[2017-11-06 19:50:58,438] Making new env: HalfCheetah-v1\n"
     ]
    },
    {
     "name": "stdout",
     "output_type": "stream",
     "text": [
      "HalfCheetah-v1 14 4149.96826379 0.0033335469149124736\n",
      "train_size 55000\n"
     ]
    },
    {
     "name": "stderr",
     "output_type": "stream",
     "text": [
      "[2017-11-06 19:51:09,304] Making new env: HalfCheetah-v1\n"
     ]
    },
    {
     "name": "stdout",
     "output_type": "stream",
     "text": [
      "HalfCheetah-v1 15 4017.99167646 0.0033385746706615796\n",
      "train_size 58000\n"
     ]
    },
    {
     "name": "stderr",
     "output_type": "stream",
     "text": [
      "[2017-11-06 19:51:20,025] Making new env: HalfCheetah-v1\n"
     ]
    },
    {
     "name": "stdout",
     "output_type": "stream",
     "text": [
      "HalfCheetah-v1 16 3995.87069136 0.003347458471865233\n",
      "train_size 61000\n"
     ]
    },
    {
     "name": "stderr",
     "output_type": "stream",
     "text": [
      "[2017-11-06 19:51:31,177] Making new env: HalfCheetah-v1\n"
     ]
    },
    {
     "name": "stdout",
     "output_type": "stream",
     "text": [
      "HalfCheetah-v1 17 4115.73908814 0.0033750129941179127\n",
      "train_size 64000\n"
     ]
    },
    {
     "name": "stderr",
     "output_type": "stream",
     "text": [
      "[2017-11-06 19:51:42,735] Making new env: HalfCheetah-v1\n"
     ]
    },
    {
     "name": "stdout",
     "output_type": "stream",
     "text": [
      "HalfCheetah-v1 18 3991.097245 0.003343067754904041\n",
      "train_size 67000\n"
     ]
    },
    {
     "name": "stderr",
     "output_type": "stream",
     "text": [
      "[2017-11-06 19:51:54,965] Making new env: HalfCheetah-v1\n"
     ]
    },
    {
     "name": "stdout",
     "output_type": "stream",
     "text": [
      "HalfCheetah-v1 19 4056.53371718 0.003352381817218083\n",
      "train_size 70000\n"
     ]
    },
    {
     "name": "stderr",
     "output_type": "stream",
     "text": [
      "[2017-11-06 19:52:07,416] Making new env: HalfCheetah-v1\n"
     ]
    },
    {
     "name": "stdout",
     "output_type": "stream",
     "text": [
      "HalfCheetah-v1 20 4069.48702313 0.003351868522912264\n",
      "train_size 73000\n"
     ]
    },
    {
     "name": "stderr",
     "output_type": "stream",
     "text": [
      "[2017-11-06 19:52:20,248] Making new env: HalfCheetah-v1\n"
     ]
    },
    {
     "name": "stdout",
     "output_type": "stream",
     "text": [
      "HalfCheetah-v1 21 4052.34492252 0.0033513625836739803\n",
      "train_size 76000\n"
     ]
    },
    {
     "name": "stderr",
     "output_type": "stream",
     "text": [
      "[2017-11-06 19:52:33,610] Making new env: HalfCheetah-v1\n"
     ]
    },
    {
     "name": "stdout",
     "output_type": "stream",
     "text": [
      "HalfCheetah-v1 22 4037.06834436 0.003338775195892116\n",
      "train_size 79000\n"
     ]
    },
    {
     "name": "stderr",
     "output_type": "stream",
     "text": [
      "[2017-11-06 19:52:47,177] Making new env: HalfCheetah-v1\n"
     ]
    },
    {
     "name": "stdout",
     "output_type": "stream",
     "text": [
      "HalfCheetah-v1 23 4065.8334143 0.0033462255626586796\n",
      "train_size 82000\n"
     ]
    },
    {
     "name": "stderr",
     "output_type": "stream",
     "text": [
      "[2017-11-06 19:53:01,087] Making new env: HalfCheetah-v1\n"
     ]
    },
    {
     "name": "stdout",
     "output_type": "stream",
     "text": [
      "HalfCheetah-v1 24 4119.76887699 0.003346956284194276\n",
      "train_size 85000\n"
     ]
    },
    {
     "name": "stderr",
     "output_type": "stream",
     "text": [
      "[2017-11-06 19:53:15,595] Making new env: HalfCheetah-v1\n"
     ]
    },
    {
     "name": "stdout",
     "output_type": "stream",
     "text": [
      "HalfCheetah-v1 25 3982.37849148 0.003339701595398433\n",
      "train_size 88000\n"
     ]
    },
    {
     "name": "stderr",
     "output_type": "stream",
     "text": [
      "[2017-11-06 19:53:32,318] Making new env: HalfCheetah-v1\n"
     ]
    },
    {
     "name": "stdout",
     "output_type": "stream",
     "text": [
      "HalfCheetah-v1 26 4075.14591508 0.003347632488468662\n",
      "train_size 91000\n"
     ]
    },
    {
     "name": "stderr",
     "output_type": "stream",
     "text": [
      "[2017-11-06 19:53:49,044] Making new env: HalfCheetah-v1\n"
     ]
    },
    {
     "name": "stdout",
     "output_type": "stream",
     "text": [
      "HalfCheetah-v1 27 4107.61769292 0.0033433202650234267\n",
      "train_size 94000\n"
     ]
    },
    {
     "name": "stderr",
     "output_type": "stream",
     "text": [
      "[2017-11-06 19:54:07,159] Making new env: HalfCheetah-v1\n"
     ]
    },
    {
     "name": "stdout",
     "output_type": "stream",
     "text": [
      "HalfCheetah-v1 28 4070.11487259 0.0033385970960073965\n",
      "train_size 97000\n"
     ]
    },
    {
     "name": "stderr",
     "output_type": "stream",
     "text": [
      "[2017-11-06 19:54:24,952] Making new env: HalfCheetah-v1\n"
     ]
    },
    {
     "name": "stdout",
     "output_type": "stream",
     "text": [
      "HalfCheetah-v1 29 4087.02040533 0.0033318613807373134\n",
      "Environment HalfCheetah-v1. State space dim 17, action space dim 6.\n",
      "        DAgger run on 30 rollouts.\n",
      "        Mean reward 4069.258. Reward std 105.667.\n",
      "        \n"
     ]
    }
   ],
   "source": [
    "learning_rate = 1e-5\n",
    "\n",
    "#environments = 'Ant-v1 HalfCheetah-v1 Hopper-v1 Humanoid-v1 Reacher-v1 Walker2d-v1'.split(' ')\n",
    "environments = 'HalfCheetah-v1'.split(' ')\n",
    "warm_start = True\n",
    "\n",
    "if not warm_start:\n",
    "    results = {}\n",
    "for envname in environments:\n",
    "    env = gym.make(envname)\n",
    "    state_shape = env.observation_space.shape[0]\n",
    "    actions_shape = env.action_space.shape[0]\n",
    "\n",
    "    print('Starting {} environment. State space dim {}, action space dim {}.'.format(\n",
    "        envname,\n",
    "        state_shape,\n",
    "        actions_shape)\n",
    "         )\n",
    "\n",
    "    if warm_start:\n",
    "        ffn = results[envname]['agent']\n",
    "    else:\n",
    "        ffn = FFN(state_shape, 128, 128, 128,actions_shape,dropout_rate = 0)\n",
    "\n",
    "    args = pd.Series({\n",
    "            'expert_policy_file':'experts/' + envname + '.pkl',\n",
    "            'envname': envname,\n",
    "            'max_timesteps': None,\n",
    "            'num_rollouts':30,\n",
    "            'render': False\n",
    "        })\n",
    "\n",
    "    returns,errors,expert_returns = train_DAgger(ffn, args)\n",
    "    \n",
    "    print('''Environment {}. State space dim {}, action space dim {}.\n",
    "        DAgger run on {} rollouts.\n",
    "        Mean reward {:.3f}. Reward std {:.3f}.\n",
    "        '''.format(\n",
    "        envname,\n",
    "        state_shape,\n",
    "        actions_shape,\n",
    "        args.num_rollouts,\n",
    "        np.mean(returns[-20:]),\n",
    "        np.std(returns[-20:])\n",
    "    ))\n",
    "    results[envname] = {'returns':returns,'errors':errors,'expert_returns':expert_returns, 'agent':ffn}\n",
    "pickle.dump(results,open('DAgger_results.pck','wb'))\n"
   ]
  },
  {
   "cell_type": "code",
   "execution_count": 21,
   "metadata": {
    "scrolled": true
   },
   "outputs": [
    {
     "name": "stdout",
     "output_type": "stream",
     "text": [
      "Environment HalfCheetah-v1. State space dim 17, action space dim 6.\n",
      "        DAgger run on 20 rollouts.\n",
      "        Mean reward 4042.186. Reward std 80.371.\n",
      "        Mean expert reward 4163.384. Expert reward std 72.810.\n",
      "        \n"
     ]
    }
   ],
   "source": [
    "for envname in environments:\n",
    "    print('''Environment {}. State space dim {}, action space dim {}.\n",
    "        DAgger run on {} rollouts.\n",
    "        Mean reward {:.3f}. Reward std {:.3f}.\n",
    "        Mean expert reward {:.3f}. Expert reward std {:.3f}.\n",
    "        '''.format(\n",
    "        envname,\n",
    "        state_shape,\n",
    "        actions_shape,\n",
    "        args.num_rollouts,\n",
    "        np.mean(results[envname]['returns'][-20:]),\n",
    "        np.std(results[envname]['returns'][-20:]),\n",
    "        np.mean(results[envname]['expert_returns'][-20:]),\n",
    "        np.std(results[envname]['expert_returns'][-20:])\n",
    "\n",
    "    ))\n",
    " "
   ]
  },
  {
   "cell_type": "code",
   "execution_count": 23,
   "metadata": {
    "scrolled": false
   },
   "outputs": [
    {
     "data": {
      "image/png": "[encoded data removed]",
      "text/plain": [
       "<matplotlib.figure.Figure at 0x7fee0428e780>"
      ]
     },
     "metadata": {},
     "output_type": "display_data"
    }
   ],
   "source": [
    "import matplotlib.pyplot as plt\n",
    "%matplotlib inline\n",
    "fig, axs = plt.subplots(nrows=len(environments)+1, ncols=1, figsize = (12, 8*len(environments)), sharex=True)\n",
    "#\n",
    "for envname in environments:\n",
    "    x = range(int(len(results[envname]['returns'])/10))\n",
    "    y,yerr = [], []\n",
    "    for i in x:\n",
    "        y.append(  np.mean(results[envname]['returns'][i*10:(i+1)*10]))\n",
    "        yerr.append(np.std(results[envname]['returns'][i*10:(i+1)*10]))\n",
    "    ax = axs[environments.index(envname)]\n",
    "    ax.errorbar(x, y, yerr=yerr, fmt='-')\n",
    "    ax.errorbar(x,[np.mean(results[envname]['expert_returns'])]*len(x),[np.std(results[envname]['expert_returns'])]*len(x))\n",
    "    ax.set_title(envname)\n",
    "#     ax.text(0,10,'''Environment {}. State space dim {}, action space dim {}.\n",
    "#         DAgger run on {} rollouts.\n",
    "#         Mean reward {:.3f}. Reward std {:.3f}.\n",
    "#         Mean expert reward {:.3f}. Expert reward std {:.3f}.\n",
    "#         '''.format(\n",
    "#         envname,\n",
    "#         state_shape,\n",
    "#         actions_shape,\n",
    "#         args.num_rollouts,\n",
    "#         np.mean(results[envname]['returns'][-20:]),\n",
    "#         np.std(results[envname]['returns'][-20:]),\n",
    "#         np.mean(results[envname]['expert_returns'][-20:]),\n",
    "#         np.std(results[envname]['expert_returns'][-20:]))\n",
    "#            )\n",
    "    #ax.legend()\n"
   ]
  },
  {
   "cell_type": "code",
   "execution_count": null,
   "metadata": {
    "collapsed": true
   },
   "outputs": [],
   "source": [
    "fig.savefig('DAgger_results1.png')"
   ]
  },
  {
   "cell_type": "code",
   "execution_count": null,
   "metadata": {
    "collapsed": true
   },
   "outputs": [],
   "source": [
    "\n",
    "import matplotlib.pyplot as plt\n",
    "%matplotlib inline\n",
    "\n",
    "fig, ax1 = plt.subplots()\n",
    "ax1.plot(returns, 'b-')\n",
    "#ax1.set_xlabel('time (s)')\n",
    "ax1.set_ylabel('error', color='b')\n",
    "ax1.tick_params('y', colors='b')\n",
    "\n",
    "ax2 = ax1.twinx()\n",
    "ax2.plot(returns, 'g')\n",
    "ax2.set_ylabel('reward', color='g')\n",
    "ax2.tick_params('y', colors='g')\n",
    "\n",
    "fig.tight_layout()\n",
    "plt.show()\n"
   ]
  },
  {
   "cell_type": "code",
   "execution_count": null,
   "metadata": {
    "collapsed": true
   },
   "outputs": [],
   "source": []
  },
  {
   "cell_type": "code",
   "execution_count": null,
   "metadata": {
    "collapsed": true
   },
   "outputs": [],
   "source": []
  }
 ],
 "metadata": {
  "kernelspec": {
   "display_name": "Python 3",
   "language": "python",
   "name": "python3"
  },
  "language_info": {
   "codemirror_mode": {
    "name": "ipython",
    "version": 3
   },
   "file_extension": ".py",
   "mimetype": "text/x-python",
   "name": "python",
   "nbconvert_exporter": "python",
   "pygments_lexer": "ipython3",
   "version": "3.6.1"
  }
 },
 "nbformat": 4,
 "nbformat_minor": 2
}
